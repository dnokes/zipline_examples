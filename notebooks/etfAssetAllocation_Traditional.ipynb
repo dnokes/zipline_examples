{
 "cells": [
  {
   "cell_type": "code",
   "execution_count": 9,
   "metadata": {},
   "outputs": [
    {
     "name": "stdout",
     "output_type": "stream",
     "text": [
      "[2020-02-15 20:31:51.859479] INFO: Loader: Downloading benchmark data for 'SPY' from 2004-12-31 00:00:00+00:00 to 2020-02-14 00:00:00+00:00\n",
      "[2020-02-15 20:31:52.018482] WARNING: Loader: Refusing to download new treasury data because a download succeeded at 2020-02-15 20:30:53.197468+00:00.\n",
      "[2020-02-15 20:32:05.408976] INFO: zipline.finance.metrics.tracker: Simulated 3806 trading days\n",
      "first open: 2005-01-03 14:31:00+00:00\n",
      "last close: 2020-02-14 21:00:00+00:00\n",
      "Annualized Return: 8.87% Max Drawdown: -24.38% Sharpe: 1.031\n"
     ]
    }
   ],
   "source": [
    "%matplotlib inline\n",
    "import zipline\n",
    "from zipline.api import order_target_percent, symbol, schedule_function, date_rules, time_rules, set_commission, set_slippage\n",
    "from zipline.finance.commission import PerDollar\n",
    "from zipline.finance.slippage import VolumeShareSlippage, FixedSlippage\n",
    "from pandas import Timestamp\n",
    "from matplotlib import pyplot as plt\n",
    "import pandas as pd\n",
    "import numpy as np\n",
    "\n",
    "\"\"\"\n",
    "Prior to running this, create a new bundle in extension.py:\n",
    "\n",
    "from zipline_norgatedata import register_norgatedata_equities_bundle\n",
    "\n",
    "register_norgatedata_equities_bundle(\n",
    "    bundlename = 'norgatedata-selected-etfs2',\n",
    "    symbol_list = ['SPY','TLT','IEF','GLD','DBC'],\n",
    "    start_session = '1990-01-01', # This is the USO first trading date\n",
    ")\n",
    "    \n",
    "and also run:\n",
    "\n",
    "zipline ingest -b norgatedata-selected-etfs2\n",
    "\n",
    "\"\"\"\n",
    "\n",
    "def analyze(context, perf):\n",
    "    \n",
    "    perf['max'] = perf.portfolio_value.cummax()\n",
    "    perf['dd'] = (perf.portfolio_value / perf['max']) - 1\n",
    "    maxdd = perf['dd'].min()\n",
    "    sharpe = perf.sharpe.iloc[-1]\n",
    "    ann_ret = (np.power((perf.portfolio_value.iloc[-1] / perf.portfolio_value.iloc[0]),(252 / len(perf)))) - 1\n",
    "    \n",
    "    print(\"Annualized Return: {:.2%} Max Drawdown: {:.2%} Sharpe: {:.4}\".format(ann_ret, maxdd, sharpe))\n",
    "    \n",
    "    # add functions to export results for R markdown reporting\n",
    "\n",
    "    return\n",
    "\n",
    "#        'SPY' : 1.0\n",
    "\n",
    "def tail_ratio(returns):\n",
    "    \"\"\"Determines the ratio between the right (95%) and left tail (5%).\n",
    "    For example, a ratio of 0.25 means that losses are four times\n",
    "    as bad as profits.\n",
    "    Parameters\n",
    "    ----------\n",
    "    returns : pd.Series\n",
    "        Daily returns of the strategy, noncumulative.\n",
    "         - See full explanation in tears.create_full_tear_sheet.\n",
    "    Returns\n",
    "    -------\n",
    "    float\n",
    "        tail ratio\n",
    "    \"\"\"\n",
    "\n",
    "    return np.abs(np.percentile(returns, 95)) / np.abs(np.percentile(returns, 5))\n",
    "\n",
    "def extractSymbol(ziplineTicker):\n",
    "    return ziplineTicker.split('[')[1].split(']')[0]\n",
    "\n",
    "def writePositions(outputDirectory,strategyName,perf):\n",
    "    # define output file name\n",
    "    outputFileName=strategyName+'_positions.csv'\n",
    "    # open output file handle\n",
    "    outputFileHandle=open(outputDirectory+outputFileName,'w')\n",
    "    # set header flag\n",
    "    headerFlag=True\n",
    "    # iterate over position object\n",
    "    for dateTime,positions in perf.positions.items():\n",
    "        # if we have positions for datetime\n",
    "        if len(positions)>0:\n",
    "            df=pd.DataFrame(positions)\n",
    "            df['datetime']=dateTime\n",
    "            df['symbol']=df['sid'].apply(lambda x : extractSymbol(str(x)))\n",
    "            df['strategyName']=strategyName\n",
    "            \n",
    "            if headerFlag:\n",
    "                df.to_csv(outputFileHandle,header=True,index=False,\n",
    "                    columns=['sid','symbol','datetime','amount','cost_basis',\n",
    "                    'last_sale_price'])\n",
    "                # set header flag\n",
    "                headerFlag=False\n",
    "            else:\n",
    "                df.to_csv(outputFileHandle,header=False,index=False,\n",
    "                    columns=['sid','symbol','datetime','amount','cost_basis',\n",
    "                    'last_sale_price'])\n",
    "    # close output file handle\n",
    "    outputFileHandle.close()\n",
    "    return outputFileName\n",
    "\n",
    "def writeTransactions(outputDirectory,strategyName,perf):\n",
    "    # define output file name\n",
    "    outputFileName=strategyName+'_transactions.csv'    \n",
    "    # open output file handle\n",
    "    outputFileHandle=open(outputDirectory+outputFileName,'w')\n",
    "    # set header flag\n",
    "    headerFlag=True\n",
    "    # iterate over transactions object\n",
    "    for dateTime,transactions in perf.transactions.items():\n",
    "        # if we have transactions for datetime\n",
    "        if len(transactions)>0:\n",
    "            df=pd.DataFrame(transactions)\n",
    "            df['datetime']=dateTime\n",
    "            df['symbol']=df['sid'].apply(lambda x : extractSymbol(str(x)))\n",
    "            df['strategyName']=strategyName\n",
    "            \n",
    "            if headerFlag:\n",
    "                df.to_csv(outputFileHandle,header=True,index=False,\n",
    "                    columns=['sid','symbol','datetime','order_id','amount',\n",
    "                    'price','commission','dt'])\n",
    "                # set header flag\n",
    "                headerFlag=False\n",
    "            else:\n",
    "                df.to_csv(outputFileHandle,header=False,index=False,\n",
    "                    columns=['sid','symbol','datetime','order_id','amount',\n",
    "                    'price','commission','dt'])\n",
    "    # close output file handle\n",
    "    outputFileHandle.close()\n",
    "    return outputFileName\n",
    "\n",
    "def writeOrders(outputDirectory,strategyName,perf):\n",
    "    # define output file name\n",
    "    outputFileName=strategyName+'_orders.csv'\n",
    "    # open output file handle\n",
    "    outputFileHandle=open(outputDirectory+outputFileName,'w')\n",
    "    # set header flag\n",
    "    headerFlag=True\n",
    "    # iterate over orders object\n",
    "    for dateTime,orders in perf.orders.items():\n",
    "        # if we have transactions for datetime\n",
    "        if len(orders)>0:\n",
    "            df=pd.DataFrame(orders)\n",
    "            df['datetime']=dateTime\n",
    "            df['symbol']=df['sid'].apply(lambda x : extractSymbol(str(x)))\n",
    "            df['strategyName']=strategyName\n",
    "            \n",
    "            if headerFlag:\n",
    "                df.to_csv(outputFileHandle,header=True,index=False,\n",
    "                    columns=['sid','symbol','datetime','id','amount','commission',\n",
    "                    'created','dt','filled','limit','limit_reached','reason',\n",
    "                    'status','stop','stop_reached'])\n",
    "                # set header flag\n",
    "                headerFlag=False\n",
    "            else:\n",
    "                df.to_csv(outputFileHandle,header=False,index=False,\n",
    "                    columns=['sid','symbol','datetime','id','amount','commission',\n",
    "                    'created','dt','filled','limit','limit_reached','reason',\n",
    "                    'status','stop','stop_reached'])\n",
    "    # close output file handle\n",
    "    outputFileHandle.close()\n",
    "    return outputFileName\n",
    "\n",
    "def writeStrategyOutput(outputDirectory,strategyName,perf):\n",
    "    performance=pd.concat([perf.period_open,perf.period_close,perf.trading_days,\n",
    "        perf.capital_used,perf.starting_cash,perf.starting_exposure,perf.starting_value,\n",
    "        perf.ending_cash,perf.ending_exposure,perf.ending_value,perf.long_exposure,\n",
    "        perf.long_value,perf.longs_count,perf.short_exposure,perf.short_value,\n",
    "        perf.shorts_count,perf.pnl,perf.portfolio_value,perf.returns,perf.gross_leverage,\n",
    "        perf.net_leverage,perf.max_leverage,perf.dd,perf.max_drawdown,perf.sharpe,\n",
    "        perf.sortino,perf.alpha,perf.beta,perf.excess_return,perf.algo_volatility,\n",
    "        perf.algorithm_period_return,perf.benchmark_volatility,perf.benchmark_period_return],\n",
    "        axis=1)\n",
    "    \n",
    "    # add strategy name\n",
    "    performance['strategyName']=strategyName    \n",
    "    # define output file name\n",
    "    performanceFileName=strategyName+'_performance.csv'\n",
    "    # write performance\n",
    "    performance.to_csv(outputDirectory+performanceFileName)\n",
    "    # write positions\n",
    "    positionsFileName=writePositions(outputDirectory,strategyName,perf)\n",
    "    # write positions\n",
    "    transactionsFileName=writeTransactions(outputDirectory,strategyName,perf)\n",
    "    # write positions\n",
    "    ordersFileName=writeOrders(outputDirectory,strategyName,perf)    \n",
    "    \n",
    "    return performance,performanceFileName,positionsFileName,transactionsFileName,ordersFileName\n",
    "\n",
    "def initialize(context):\n",
    "    enable_commission=parameters['enable_commission']\n",
    "    commission_pct=parameters['commission_pct']\n",
    "    enable_slippage=parameters['enable_slippage']\n",
    "    slippage_volume_limit=parameters['slippage_volume_limit']\n",
    "    slippage_impact=parameters['slippage_impact']\n",
    "    \n",
    "    # Securities and target weights\n",
    "    context.allocation = {\n",
    "        'SPY' : 0.5,\n",
    "        'TLT' : 0.5\n",
    "    }\n",
    "    \n",
    "    # Set commission and slippage.\n",
    "    if enable_commission:\n",
    "        comm_model = PerDollar(cost=commission_pct)\n",
    "    else:\n",
    "        comm_model = PerDollar(cost=0.0)\n",
    "    set_commission(comm_model)\n",
    "\n",
    "    if enable_slippage:\n",
    "        slippage_model=VolumeShareSlippage(volume_limit=slippage_volume_limit,\n",
    "            price_impact=slippage_impact)\n",
    "        set_slippage(slippage_model)\n",
    "    else:\n",
    "        slippage_model=FixedSlippage(spread=0.0)       \n",
    "    \n",
    "    # Schedule rebalance for once a month\n",
    "    schedule_function(rebalance, date_rules.month_start(), time_rules.market_open())\n",
    "    \n",
    "def rebalance(context, data):\n",
    "    # Loop through the securities\n",
    "    for ticker, weight in context.allocation.items():\n",
    "        instrument = symbol(ticker)\n",
    "        # Check if we can trade\n",
    "        if data.can_trade(instrument):\n",
    "            # Reset the weight\n",
    "            order_target_percent(instrument, weight) \n",
    "\n",
    "outputDirectory = 'F:/Downloads/backtest/2005_2020/EQ50_FI50/'            \n",
    "strategyName='EQ50_FI50'\n",
    "\n",
    "parameters=dict()\n",
    "#parameters['start_date'] = Timestamp('2002-08-01',tz='UTC')\n",
    "parameters['start_date']=Timestamp('2005-01-01',tz='UTC')\n",
    "parameters['end_date']=Timestamp('2020-02-14',tz='UTC')\n",
    "parameters['bundle_name']='norgatedata-etf'\n",
    "parameters['intial_portfolio']=100000\n",
    "parameters['enable_commission']=True\n",
    "parameters['commission_pct']=0.001\n",
    "parameters['enable_slippage']=True\n",
    "parameters['slippage_volume_limit']=0.1\n",
    "parameters['slippage_impact']=0.05\n",
    "parameters['strategyName']=strategyName\n",
    "\n",
    "# Fire off backtest\n",
    "result = zipline.run_algorithm(\n",
    "    start=parameters['start_date'], # set start\n",
    "    end=parameters['end_date'],  # set end\n",
    "    initialize=initialize, # define startup function\n",
    "    analyze=analyze, \n",
    "    capital_base=parameters['intial_portfolio'], # set initial capital\n",
    "    data_frequency = 'daily',  # set data frequency\n",
    "    bundle=parameters['bundle_name'] ) # select bundle\n",
    "\n",
    "# write strategy output\n",
    "performance,performanceFileName,positionsFileName,transactionsFileName,ordersFileName=writeStrategyOutput(outputDirectory,\n",
    "    strategyName,result)\n",
    "\n",
    "# extract parameter keys\n",
    "keys=[str(key) for key in parameters.keys()]\n",
    "# extract parameter values\n",
    "values=[key for key in parameters.values()]\n",
    "# create parameter data frame\n",
    "parameterDf=pd.DataFrame(index=keys,data=values,columns=['parameterValue'])\n",
    "# write parameters\n",
    "parameterDf.to_csv(outputDirectory+strategyName+\"_parameters.csv\",index_label='parameterName')"
   ]
  },
  {
   "cell_type": "code",
   "execution_count": 10,
   "metadata": {
    "scrolled": false
   },
   "outputs": [],
   "source": [
    "twr=(1+result.algorithm_period_return)\n",
    "highTwr=twr.cummax()\n",
    "dd=(twr/highTwr)-1\n",
    "mpvd=dd.cummin()"
   ]
  },
  {
   "cell_type": "code",
   "execution_count": 11,
   "metadata": {},
   "outputs": [],
   "source": [
    "days=parameters['end_date']-parameters['start_date']"
   ]
  },
  {
   "cell_type": "code",
   "execution_count": 12,
   "metadata": {},
   "outputs": [
    {
     "data": {
      "text/plain": [
       "0.08851108492955562"
      ]
     },
     "execution_count": 12,
     "metadata": {},
     "output_type": "execute_result"
    }
   ],
   "source": [
    "(twr[-1]**(1.0/(days.days/365)))-1"
   ]
  },
  {
   "cell_type": "markdown",
   "metadata": {},
   "source": []
  },
  {
   "cell_type": "code",
   "execution_count": 13,
   "metadata": {},
   "outputs": [
    {
     "data": {
      "text/plain": [
       "<matplotlib.axes._subplots.AxesSubplot at 0x243fa298f28>"
      ]
     },
     "execution_count": 13,
     "metadata": {},
     "output_type": "execute_result"
    },
    {
     "data": {
      "image/png": "[encoded data removed]",
      "text/plain": [
       "<Figure size 432x288 with 1 Axes>"
      ]
     },
     "metadata": {
      "needs_background": "light"
     },
     "output_type": "display_data"
    }
   ],
   "source": [
    "twr.plot()"
   ]
  },
  {
   "cell_type": "code",
   "execution_count": 14,
   "metadata": {},
   "outputs": [
    {
     "data": {
      "text/plain": [
       "<matplotlib.axes._subplots.AxesSubplot at 0x243f92ea400>"
      ]
     },
     "execution_count": 14,
     "metadata": {},
     "output_type": "execute_result"
    },
    {
     "data": {
      "image/png": "[encoded data removed]",
      "text/plain": [
       "<Figure size 432x288 with 1 Axes>"
      ]
     },
     "metadata": {
      "needs_background": "light"
     },
     "output_type": "display_data"
    }
   ],
   "source": [
    "dd.plot()"
   ]
  },
  {
   "cell_type": "code",
   "execution_count": 15,
   "metadata": {},
   "outputs": [
    {
     "data": {
      "text/plain": [
       "[{'amount': 547,\n",
       "  'cost_basis': 167.03704328551774,\n",
       "  'last_sale_price': 337.6,\n",
       "  'sid': Equity(2602 [SPY])},\n",
       " {'amount': 1219,\n",
       "  'cost_basis': 100.53136601410692,\n",
       "  'last_sale_price': 144.55,\n",
       "  'sid': Equity(2699 [TLT])}]"
      ]
     },
     "execution_count": 15,
     "metadata": {},
     "output_type": "execute_result"
    }
   ],
   "source": [
    "result.positions[-1]"
   ]
  },
  {
   "cell_type": "code",
   "execution_count": 16,
   "metadata": {},
   "outputs": [
    {
     "data": {
      "text/plain": [
       "1.0314161639337134"
      ]
     },
     "execution_count": 16,
     "metadata": {},
     "output_type": "execute_result"
    }
   ],
   "source": [
    "result.sharpe[-1]"
   ]
  }
 ],
 "metadata": {
  "kernelspec": {
   "display_name": "Python (env_zipline)",
   "language": "python",
   "name": "env_zipline"
  },
  "language_info": {
   "codemirror_mode": {
    "name": "ipython",
    "version": 3
   },
   "file_extension": ".py",
   "mimetype": "text/x-python",
   "name": "python",
   "nbconvert_exporter": "python",
   "pygments_lexer": "ipython3",
   "version": "3.5.5"
  }
 },
 "nbformat": 4,
 "nbformat_minor": 2
}
